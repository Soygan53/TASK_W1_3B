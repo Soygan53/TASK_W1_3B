{
  "nbformat": 4,
  "nbformat_minor": 0,
  "metadata": {
    "colab": {
      "provenance": []
    },
    "kernelspec": {
      "name": "python3",
      "display_name": "Python 3"
    },
    "language_info": {
      "name": "python"
    }
  },
  "cells": [
    {
      "cell_type": "code",
      "execution_count": 4,
      "metadata": {
        "id": "5tev8MGGbtZu",
        "colab": {
          "base_uri": "https://localhost:8080/"
        },
        "outputId": "55412a9b-76aa-43c6-ec53-3bfa2215f148"
      },
      "outputs": [
        {
          "output_type": "stream",
          "name": "stdout",
          "text": [
            "En uzun boylu amerika baskani: Lyndon B. Johnson 'dir ve  36 . Amerika Baskanidir. Boyu ise : 193 tur.\n",
            "En kisa boylu amerika baskani: James Madison 'dir ve  4 . Amerika Baskanidir. Boyu ise : 163 tur.\n"
          ]
        }
      ],
      "source": [
        "\"\"\"\n",
        "Created on Tuesday Oct 20 11:55:31 2022\n",
        "\n",
        "@author: Ahmet Sina Soykan\n",
        "\"\"\"\n",
        "\n",
        "import numpy as np                                    #importing numpy library\n",
        "import random                                         #importing random library\n",
        "import pandas as pd                                   #importing pandas library\n",
        "\n",
        "A =!head -4 /president_heights.csv\n",
        "\n",
        "data = pd.read_csv('/content/president_heights.csv')  #read this file and synchronize it \"data\"\n",
        "heights = np.array(data['height(cm)'])                #in \"data\" DataFrame take 'height(cm)' column and make it array named \"heights\"\n",
        "order= np.array(data['order'])                        #in \"data\" DataFrame take 'order' column and make it array named \"order\"\n",
        "name= np.array(data['name'])                          #in \"data\" DataFrame take 'name' column and make it array named \"name\"\n",
        "Min_Boy=heights.min()                                 #in heights array find min value and synchronize it \"Min_Boy\"\n",
        "Max_Boy=heights.max()                                 #in heights array find max value and synchronize it \"Max_Boy\"\n",
        "\n",
        "kontrol1 = 0;                                         #in this for loop we are trying to find index of \"Min_Boy\"\n",
        "for i in range(42):\n",
        "    if Min_Boy == heights[i]:\n",
        "        Min_Boy_Indeksi=i\n",
        "        kontrol1 = kontrol1 + 1\n",
        "\n",
        "kontrol2 = 0;                                         #in this for loop we are trying to find index of \"Max_Boy\"\n",
        "for i in range(42):\n",
        "    if Max_Boy == heights[i]:\n",
        "        Max_Boy_Indeksi=i\n",
        "        kontrol2 = kontrol2 + 1\n",
        "\n",
        "print(\"En uzun boylu amerika baskani:\",name[Max_Boy_Indeksi],\"'dir ve \",order[Max_Boy_Indeksi],\". Amerika Baskanidir. Boyu ise :\",heights[Max_Boy_Indeksi],\"tur.\")\n",
        "print(\"En kisa boylu amerika baskani:\",name[Min_Boy_Indeksi],\"'dir ve \",order[Min_Boy_Indeksi],\". Amerika Baskanidir. Boyu ise :\",heights[Min_Boy_Indeksi],\"tur.\")"
      ]
    }
  ]
}